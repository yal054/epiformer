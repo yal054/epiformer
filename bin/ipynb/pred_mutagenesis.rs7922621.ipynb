{
 "cells": [
  {
   "cell_type": "code",
   "execution_count": 1,
   "metadata": {},
   "outputs": [
    {
     "name": "stderr",
     "output_type": "stream",
     "text": [
      "/home/yang/apps/anaconda3/envs/epiformer/lib/python3.9/site-packages/tqdm/auto.py:21: TqdmWarning: IProgress not found. Please update jupyter and ipywidgets. See https://ipywidgets.readthedocs.io/en/stable/user_install.html\n",
      "  from .autonotebook import tqdm as notebook_tqdm\n"
     ]
    }
   ],
   "source": [
    "from model import *\n",
    "from func import *\n",
    "\n",
    "import copy\n",
    "import time\n",
    "from time import perf_counter as pc\n",
    "\n",
    "# Setting the seed\n",
    "seed = 2022\n",
    "torch.manual_seed(seed)\n",
    "torch.cuda.manual_seed(seed)\n",
    "torch.cuda.manual_seed_all(seed)\n",
    "np.random.seed(seed)\n",
    "random.seed(seed)\n",
    "\n",
    "# Additionally, some operations on a GPU are implemented stochastic for efficiency\n",
    "# We want to ensure that all operations are deterministic on GPU (if used) for reproducibility\n",
    "torch.backends.cudnn.determinstic = True\n",
    "torch.backends.cudnn.benchmark = False"
   ]
  },
  {
   "cell_type": "markdown",
   "metadata": {},
   "source": [
    "### load parameters"
   ]
  },
  {
   "cell_type": "code",
   "execution_count": 2,
   "metadata": {},
   "outputs": [],
   "source": [
    "path2model = \"../models/human.25k.multi.30way.4gpu4batch32accum11atten8head1152embed.model-1682666429.best_loss.pth.tar\"\n",
    "\n",
    "region4pred = \"chr10:80426429-80517820\" # TSPAN14\n",
    "region2peak = \"chr10:80491485-80492198\" # peak\n",
    "\n",
    "outprfx = \"../muta/human.25k.multi.30way.4gpu4batch32accum11atten8head1152embed.model-1682666429.best_loss\""
   ]
  },
  {
   "cell_type": "code",
   "execution_count": 3,
   "metadata": {},
   "outputs": [],
   "source": [
    "seq_len = 98304\n",
    "bin_size = 128\n",
    "\n",
    "species = \"hg38\"\n",
    "path2dir = \"../\"\n",
    "\n",
    "index = 3\n",
    "path2trg = \"../datasets/human_wigs.txt\"\n",
    "trgfiles = pd.read_csv(path2trg, delimiter = \"\\t\")\n",
    "celltype_list = trgfiles['identifier']\n",
    "celltype_labels = celltype_list[index]\n",
    "\n",
    "path2seqcons = ''.join([path2dir, \"/genome/\", species, \".phastCons.bw\"])\n",
    "if os.path.isfile(path2seqcons) is not True:\n",
    "    path2seqcons = None\n",
    "path2fasta = ''.join([path2dir, \"/genome/\", species, \".fa\"])"
   ]
  },
  {
   "cell_type": "markdown",
   "metadata": {},
   "source": [
    "### load model "
   ]
  },
  {
   "cell_type": "code",
   "execution_count": 4,
   "metadata": {},
   "outputs": [
    {
     "name": "stdout",
     "output_type": "stream",
     "text": [
      "current model corr:  0.7509080171585083\n",
      "current valid corr:  0.5842358469963074\n",
      "current model loss:  0.33762448439721227\n",
      "current valid loss:  0.5106442114329431\n"
     ]
    }
   ],
   "source": [
    "checkpoint = torch.load(path2model)\n",
    "print(\"current model corr: \", checkpoint['current_model_corr'])\n",
    "print(\"current valid corr: \", checkpoint['current_valid_corr'])\n",
    "print(\"current model loss: \", checkpoint['current_model_loss'])\n",
    "print(\"current valid loss: \", checkpoint['current_valid_loss'])"
   ]
  },
  {
   "cell_type": "code",
   "execution_count": 5,
   "metadata": {},
   "outputs": [],
   "source": [
    "# Model hyperparameters\n",
    "seq_len = checkpoint['param']['seq_len']\n",
    "bin_size = checkpoint['param']['bin_size']\n",
    "num_cnn_layer = checkpoint['param']['num_cnn_layer']\n",
    "max_len = checkpoint['param']['max_len']\n",
    "add_positional_encoding = checkpoint['param']['add_positional_encoding']\n",
    "embed_size = checkpoint['param']['embed_size']\n",
    "num_heads = checkpoint['param']['num_heads']\n",
    "att_dropout = checkpoint['param']['att_dropout']\n",
    "dim_feedforward = checkpoint['param']['dim_feedforward']\n",
    "enc_dropout = checkpoint['param']['enc_dropout']\n",
    "batch_first = checkpoint['param']['batch_first']\n",
    "num_encoder_layers = checkpoint['param']['num_encoder_layers']\n",
    "crop_size = checkpoint['param']['crop_size']\n",
    "ptw_dropout = checkpoint['param']['ptw_dropout']\n",
    "multiout_dim = checkpoint['param']['multiout_dim']\n",
    "if_cons = checkpoint['param']['if_cons']\n",
    "if_augment = checkpoint['param']['if_augment']\n",
    "penalty = checkpoint['param']['penalty']"
   ]
  },
  {
   "cell_type": "code",
   "execution_count": 6,
   "metadata": {},
   "outputs": [
    {
     "name": "stdout",
     "output_type": "stream",
     "text": [
      "=> loading checkpoint\n"
     ]
    }
   ],
   "source": [
    "model = SelfTrans_signalOUT(\n",
    "                  seq_len,\n",
    "                  bin_size,\n",
    "                  num_cnn_layer,\n",
    "                  max_len,\n",
    "                  add_positional_encoding,\n",
    "                  embed_size,\n",
    "                  num_heads,\n",
    "                  att_dropout,\n",
    "                  dim_feedforward,\n",
    "                  enc_dropout,\n",
    "                  batch_first,\n",
    "                  num_encoder_layers,\n",
    "                  ptw_dropout,\n",
    "                  multiout_dim #recycle_count\n",
    "                 )\n",
    "\n",
    "load_checkpoint(checkpoint, model) # load state_dict to model\n",
    "model = model.cpu()"
   ]
  },
  {
   "cell_type": "markdown",
   "metadata": {},
   "source": [
    "### extract data"
   ]
  },
  {
   "cell_type": "code",
   "execution_count": 7,
   "metadata": {},
   "outputs": [
    {
     "name": "stdout",
     "output_type": "stream",
     "text": [
      "chr10 80422972 80521276\n"
     ]
    }
   ],
   "source": [
    "data = extract_data(region4pred,\n",
    "                 path2trg,\n",
    "                 path2fasta,\n",
    "                 path2seqcons,\n",
    "                 seq_len,\n",
    "                 bin_size\n",
    "                )\n",
    "\n",
    "inputs, seqcons, targets = data['seq'], data['seqcons'], data['signal']\n",
    "inputs, seqcons, targets = torch.tensor(inputs), torch.tensor(seqcons), torch.tensor(targets)\n",
    "inputs = inputs.unsqueeze(0)\n",
    "inputs = inputs.float()\n",
    "seqcons = seqcons.unsqueeze(0)\n",
    "seqcons = seqcons.float()\n",
    "targets = targets.unsqueeze(0)\n",
    "\n",
    "targets = targets[:, index, :].unsqueeze(1)"
   ]
  },
  {
   "cell_type": "markdown",
   "metadata": {},
   "source": [
    "### predict and plot signals"
   ]
  },
  {
   "cell_type": "code",
   "execution_count": 8,
   "metadata": {},
   "outputs": [
    {
     "name": "stdout",
     "output_type": "stream",
     "text": [
      "Predicting...\n",
      "Model_Corr: 0.7491\n"
     ]
    }
   ],
   "source": [
    "if if_cons:\n",
    "    inputs = inputs * torch.exp(seqcons)\n",
    "\n",
    "# testing\n",
    "torch.manual_seed(2022)\n",
    "outs = model.forward(inputs)\n",
    "\n",
    "if index:\n",
    "    outs = outs[:,index,:].unsqueeze(1)\n",
    "\n",
    "if crop_size > 0:\n",
    "    crop_seq_size = targets.shape[2] - (crop_size * 2)\n",
    "    targets = center_crop(targets, targets.shape[1], crop_seq_size)\n",
    "    outs = center_crop(outs, outs.shape[1], crop_seq_size)\n",
    "    \n",
    "# calculate statistics\n",
    "corr = metric(torch.flatten(torch.log2(outs+1), start_dim=1),\n",
    "              torch.flatten(torch.log2(targets+1), start_dim=1)) # log2 pcc flatten\n",
    "\n",
    "# output\n",
    "corr = float(np.mean(corr.cpu().detach().numpy()))\n",
    "print('Predicting...')\n",
    "print('Model_Corr: {:.4f}'.format(corr))"
   ]
  },
  {
   "cell_type": "code",
   "execution_count": 9,
   "metadata": {},
   "outputs": [
    {
     "data": {
      "text/plain": [
       "<Figure size 432x144 with 0 Axes>"
      ]
     },
     "metadata": {},
     "output_type": "display_data"
    },
    {
     "data": {
      "text/plain": [
       "<Figure size 1296x144 with 0 Axes>"
      ]
     },
     "metadata": {},
     "output_type": "display_data"
    },
    {
     "data": {
      "image/png": "[encoded data removed]",
      "text/plain": [
       "<Figure size 790.875x144 with 1 Axes>"
      ]
     },
     "metadata": {
      "needs_background": "light"
     },
     "output_type": "display_data"
    },
    {
     "data": {
      "text/plain": [
       "<Figure size 432x288 with 0 Axes>"
      ]
     },
     "metadata": {},
     "output_type": "display_data"
    }
   ],
   "source": [
    "# plotting \n",
    "plot_targets = targets.squeeze(0).detach().numpy()\n",
    "plot_outs = outs.squeeze(0).detach().numpy()\n",
    "\n",
    "fig = plt.figure(figsize=(6, 2))\n",
    "plotone_pred_rawsignal(plot_targets, plot_outs, celltype_labels)\n",
    "plt.savefig(outprfx + '.' + species + '.' + region4pred + '.' + 'pred_rawsignals.pdf')"
   ]
  },
  {
   "cell_type": "code",
   "execution_count": 10,
   "metadata": {},
   "outputs": [
    {
     "data": {
      "text/plain": [
       "<Figure size 432x144 with 0 Axes>"
      ]
     },
     "metadata": {},
     "output_type": "display_data"
    },
    {
     "data": {
      "text/plain": [
       "<Figure size 1296x144 with 0 Axes>"
      ]
     },
     "metadata": {},
     "output_type": "display_data"
    },
    {
     "data": {
      "image/png": "[encoded data removed]",
      "text/plain": [
       "<Figure size 790.875x144 with 1 Axes>"
      ]
     },
     "metadata": {
      "needs_background": "light"
     },
     "output_type": "display_data"
    },
    {
     "data": {
      "text/plain": [
       "<Figure size 432x288 with 0 Axes>"
      ]
     },
     "metadata": {},
     "output_type": "display_data"
    }
   ],
   "source": [
    "fig = plt.figure(figsize=(6, 2))\n",
    "plotone_pred_log2signal(plot_targets, plot_outs, celltype_labels)\n",
    "plt.savefig(outprfx + '.' + species + '.' + region4pred + '.' + 'pred_log2signals.pdf')"
   ]
  },
  {
   "cell_type": "code",
   "execution_count": 11,
   "metadata": {},
   "outputs": [],
   "source": [
    "# output\n",
    "outfile = '.'.join([outprfx, species, region4pred, \"true_signals.tsv\"])\n",
    "np.savetxt(outfile, plot_targets)\n",
    "\n",
    "outfile = '.'.join([outprfx, species, region4pred, \"pred_signals.tsv\"])\n",
    "np.savetxt(outfile, plot_outs)"
   ]
  },
  {
   "cell_type": "markdown",
   "metadata": {},
   "source": [
    "### predict on mutagenesis"
   ]
  },
  {
   "cell_type": "code",
   "execution_count": 12,
   "metadata": {},
   "outputs": [],
   "source": [
    "acgt = ['A','C','G','T']"
   ]
  },
  {
   "cell_type": "code",
   "execution_count": 13,
   "metadata": {},
   "outputs": [],
   "source": [
    "def get_ovlp_index(pred_interval, peak_interval, bin_size, crop_size):\n",
    "  pred_interval_bins = BedTool().window_maker(b=pred_interval, w=bin_size)\n",
    "  # overlap with region\n",
    "  region_ovlp = pred_interval_bins.intersect(peak_interval, wao=True)\n",
    "  region_ovlpdf = pd.read_table(region_ovlp.fn, names=['chrom', 'start', 'stop', 'chr', 'begin', 'end', 'score'])\n",
    "  region_ovlp_idx = region_ovlpdf.index[region_ovlpdf['chr'] != \".\"].tolist()\n",
    "  region_ovlp_idx = [x-crop_size for x in region_ovlp_idx]\n",
    "  return region_ovlp_idx"
   ]
  },
  {
   "cell_type": "code",
   "execution_count": 14,
   "metadata": {},
   "outputs": [],
   "source": [
    "def get_ref_nucleotide(one_hot_array):\n",
    "  acgt2num = {0: 'A',\n",
    "              1: 'C',\n",
    "              2: 'G',\n",
    "              3: 'T'}\n",
    "\n",
    "  idx = int(np.where(one_hot_array == 1)[0])\n",
    "  out = acgt2num[idx]\n",
    "  return out"
   ]
  },
  {
   "cell_type": "code",
   "execution_count": 15,
   "metadata": {},
   "outputs": [],
   "source": [
    "def seq2onehot(seq):\n",
    "    acgt2num = {'A': 0, 'C': 1, 'G': 2, 'T': 3}\n",
    "    seq = seq.upper() # uppercase\n",
    "    h = 4\n",
    "    w = len(seq)\n",
    "    mat = np.zeros((h, w), dtype=int)  # True or false in mat\n",
    "\n",
    "    for i in range(w):\n",
    "        if seq[i] != 'N':\n",
    "            mat[acgt2num[seq[i]], i] = 1.\n",
    "    return mat"
   ]
  },
  {
   "cell_type": "code",
   "execution_count": 16,
   "metadata": {},
   "outputs": [
    {
     "name": "stdout",
     "output_type": "stream",
     "text": [
      "predict region:  chr10 80422972 80521276\n",
      "measure region:  chr10 80491485 80492198\n",
      "mutagenesis from  68513  to  69226\n",
      "measure from bin  471  to  477\n"
     ]
    }
   ],
   "source": [
    "''' get region for prediction extend from center '''\n",
    "region4pred_str = region4pred.strip().replace(':', ' ').replace('-', ' ').split()\n",
    "region4pred_chrom = region4pred_str[0]\n",
    "region_len = int(region4pred_str[2]) - int(region4pred_str[1])\n",
    "region_diff = seq_len - region_len\n",
    "region_flank = int(region_diff/2)\n",
    "if region_diff % 2 == 1:\n",
    "    region4pred_start = int(region4pred_str[1]) - region_flank - 1\n",
    "    region4pred_end = int(region4pred_str[2]) + region_flank\n",
    "else:\n",
    "    region4pred_start = int(region4pred_str[1]) - region_flank\n",
    "    region4pred_end = int(region4pred_str[2]) + region_flank\n",
    "region4pred_str = ' '.join([region4pred_chrom, str(region4pred_start), str(region4pred_end)])\n",
    "region4pred_interval = BedTool(region4pred_str, from_string=True)\n",
    "print(\"predict region: \", region4pred_str)\n",
    "    \n",
    "'''get peak loci'''\n",
    "region2peak_str = region2peak.strip().replace(':', ' ').replace('-', ' ').split()\n",
    "region2peak_chrom = region2peak_str[0]\n",
    "region2peak_start = int(region2peak_str[1])\n",
    "region2peak_end = int(region2peak_str[2])\n",
    "region2peak_str = ' '.join([region2peak_chrom, str(region2peak_start), str(region2peak_end)])\n",
    "region2peak_interval = BedTool(region2peak_str, from_string=True)\n",
    "print(\"measure region: \", region2peak_str)\n",
    "\n",
    "'''get mutagenesis index'''\n",
    "start_seq_index = region2peak_start - region4pred_start\n",
    "end_seq_index = region2peak_end - region4pred_start\n",
    "print(\"mutagenesis from \", start_seq_index, \" to \", end_seq_index)\n",
    "\n",
    "'''get overlapped bins index'''\n",
    "ovlp_bin_index = get_ovlp_index(region4pred_interval, region2peak_interval, bin_size, crop_size)\n",
    "#ovlp_bin_index = get_bin_index(region4pred_start, bin_size, region2peak_start, region2peak_end, crop_size = crop_size)\n",
    "start_ovlp_bin_index = ovlp_bin_index[0]  \n",
    "end_ovlp_bin_index = ovlp_bin_index[-1] + 1\n",
    "print(\"measure from bin \", start_ovlp_bin_index, \" to \", end_ovlp_bin_index)"
   ]
  },
  {
   "cell_type": "code",
   "execution_count": 17,
   "metadata": {},
   "outputs": [
    {
     "name": "stdout",
     "output_type": "stream",
     "text": [
      "chr10 80422972 80521276\n"
     ]
    }
   ],
   "source": [
    "data = extract_data(region4pred,\n",
    "                 path2trg,\n",
    "                 path2fasta,\n",
    "                 path2seqcons,\n",
    "                 seq_len,\n",
    "                 bin_size\n",
    "                )\n",
    "\n",
    "inputs, seqcons, targets = data['seq'], data['seqcons'], data['signal']"
   ]
  },
  {
   "cell_type": "code",
   "execution_count": 19,
   "metadata": {},
   "outputs": [],
   "source": [
    "ref_inputs, ref_seqcons = torch.tensor(inputs), torch.tensor(seqcons)\n",
    "ref_inputs = ref_inputs.unsqueeze(0)\n",
    "ref_inputs = ref_inputs.float()\n",
    "ref_seqcons = ref_seqcons.unsqueeze(0)\n",
    "ref_seqcons = ref_seqcons.float()\n",
    "\n",
    "if if_cons:\n",
    "    ref_inputs = ref_inputs * torch.exp(ref_seqcons)\n",
    "\n",
    "# testing\n",
    "torch.manual_seed(2022)\n",
    "ref_outs = model.forward(ref_inputs)\n",
    "\n",
    "if index:\n",
    "    ref_outs = ref_outs[:,index,:].unsqueeze(1)\n",
    "\n",
    "if crop_size > 0:\n",
    "    crop_seq_size = ref_outs.shape[2] - (crop_size * 2)\n",
    "    ref_outs = center_crop(ref_outs, ref_outs.shape[1], crop_seq_size)\n",
    "\n",
    "ref_pred_signal = ref_outs[:, :, start_ovlp_bin_index:end_ovlp_bin_index]\n",
    "ref_pred_signal_sum = torch.sum(ref_pred_signal) \n",
    "#ref_pred_signal_max = max(torch.flatten(ref_pred_signal), key=abs) "
   ]
  },
  {
   "cell_type": "code",
   "execution_count": 20,
   "metadata": {},
   "outputs": [
    {
     "data": {
      "text/plain": [
       "tensor([3.6499, 4.0481, 6.7909, 9.3772, 4.8978, 2.5694],\n",
       "       grad_fn=<ReshapeAliasBackward0>)"
      ]
     },
     "execution_count": 20,
     "metadata": {},
     "output_type": "execute_result"
    }
   ],
   "source": [
    "torch.flatten(ref_pred_signal)"
   ]
  },
  {
   "cell_type": "code",
   "execution_count": 21,
   "metadata": {},
   "outputs": [
    {
     "data": {
      "text/plain": [
       "tensor([[[0.0000, 0.0000, 0.0000, 0.0000],\n",
       "         [1.1388, 1.0640, 0.0000, 0.0000],\n",
       "         [0.0000, 0.0000, 0.0000, 0.0000],\n",
       "         [0.0000, 0.0000, 1.0704, 1.1074]]])"
      ]
     },
     "execution_count": 21,
     "metadata": {},
     "output_type": "execute_result"
    }
   ],
   "source": [
    "ref_inputs[:,:,68814:68818]"
   ]
  },
  {
   "cell_type": "code",
   "execution_count": 22,
   "metadata": {
    "scrolled": true
   },
   "outputs": [
    {
     "name": "stdout",
     "output_type": "stream",
     "text": [
      "----------\n",
      "Test on mutagenesis complete in 36m 43s\n"
     ]
    }
   ],
   "source": [
    "since = time.time()\n",
    "\n",
    "acgt = ['A','C','G','T']\n",
    "\n",
    "i_list = []\n",
    "nuc_list = []\n",
    "grp_list = []\n",
    "alt2ref_list = []\n",
    "\n",
    "for i in range(start_seq_index, end_seq_index+1):\n",
    "#for i in range(68814, 68818):\n",
    "    i_list.append(i-start_seq_index)\n",
    "    nuc = inputs[:,i]\n",
    "    #print(nuc)\n",
    "    ref_nuc = get_ref_nucleotide(nuc)\n",
    "    nuc_list.append(ref_nuc)\n",
    "    grp_list.append(\"ref\")\n",
    "    alt2ref_list.append(0)\n",
    "    \n",
    "    alt_nuc = set(acgt) - set(ref_nuc)\n",
    "    alt_nuc = list(alt_nuc)\n",
    "    for alt in alt_nuc:\n",
    "        #print(alt)\n",
    "        i_list.append(i-start_seq_index)\n",
    "        nuc_list.append(alt)\n",
    "        grp_list.append(\"alt\")\n",
    "        alt_onehot = np.ravel(seq2onehot(alt))\n",
    "        alt_input = copy.deepcopy(inputs)\n",
    "        alt_input[:,i] = alt_onehot # mutagenesis\n",
    "        \n",
    "        alt_input = torch.tensor(alt_input)\n",
    "        alt_input = alt_input.unsqueeze(0)\n",
    "        alt_input = alt_input.float()\n",
    "        \n",
    "        if if_cons:\n",
    "            alt_input = alt_input * torch.exp(ref_seqcons)\n",
    "        \n",
    "        torch.manual_seed(2022)\n",
    "        alt_outs = model.forward(alt_input) # test on mutagenesis\n",
    "        #print(alt_outs.shape)\n",
    "        \n",
    "        if index:\n",
    "            alt_outs = alt_outs[:,index,:].unsqueeze(1)\n",
    "\n",
    "        if crop_size > 0:\n",
    "            crop_seq_size = alt_outs.shape[2] - (crop_size * 2)\n",
    "            alt_outs = center_crop(alt_outs, alt_outs.shape[1], crop_seq_size)\n",
    "        \n",
    "        '''get diff'''\n",
    "        alt_pred_signal = alt_outs[:, :, start_ovlp_bin_index:end_ovlp_bin_index]\n",
    "        #print(torch.flatten(alt_pred_signal))\n",
    "        \n",
    "        alt_pred_signal_sum = torch.sum(alt_pred_signal) \n",
    "        alt2ref = alt_pred_signal_sum - ref_pred_signal_sum\n",
    "        alt2ref_list.append(float(alt2ref))\n",
    "        #print(alt2ref)\n",
    "        \n",
    "        #alt2ref = torch.flatten(alt_pred_signal) - torch.flatten(ref_pred_signal)\n",
    "        #alt2ref_max = max(alt2ref, key=abs)\n",
    "        #alt2ref_list.append(float(alt2ref_max))\n",
    "        #print(alt2ref_max)\n",
    "        \n",
    "time_elapsed = time.time() - since\n",
    "\n",
    "print('-' * 10)\n",
    "print('Test on mutagenesis complete in {:.0f}m {:.0f}s'.format(time_elapsed // 60, time_elapsed % 60))"
   ]
  },
  {
   "cell_type": "code",
   "execution_count": 23,
   "metadata": {},
   "outputs": [
    {
     "data": {
      "text/plain": [
       "tensor([[[3.6499, 4.0481, 6.7909, 9.3772, 4.8978, 2.5694]]],\n",
       "       grad_fn=<SliceBackward0>)"
      ]
     },
     "execution_count": 23,
     "metadata": {},
     "output_type": "execute_result"
    }
   ],
   "source": [
    "ref_pred_signal"
   ]
  },
  {
   "cell_type": "code",
   "execution_count": 24,
   "metadata": {},
   "outputs": [
    {
     "data": {
      "text/plain": [
       "tensor([[[3.6457, 4.0376, 6.7840, 9.3668, 4.7633, 2.5273]]],\n",
       "       grad_fn=<SliceBackward0>)"
      ]
     },
     "execution_count": 24,
     "metadata": {},
     "output_type": "execute_result"
    }
   ],
   "source": [
    "alt_pred_signal"
   ]
  },
  {
   "cell_type": "code",
   "execution_count": 25,
   "metadata": {},
   "outputs": [],
   "source": [
    "res = pd.DataFrame(dict(index = i_list,\n",
    "                        nuc = nuc_list,\n",
    "                        group = grp_list,\n",
    "                        alt2ref = alt2ref_list\n",
    "                       )\n",
    "                  )"
   ]
  },
  {
   "cell_type": "code",
   "execution_count": 26,
   "metadata": {},
   "outputs": [
    {
     "data": {
      "text/html": [
       "<div>\n",
       "<style scoped>\n",
       "    .dataframe tbody tr th:only-of-type {\n",
       "        vertical-align: middle;\n",
       "    }\n",
       "\n",
       "    .dataframe tbody tr th {\n",
       "        vertical-align: top;\n",
       "    }\n",
       "\n",
       "    .dataframe thead th {\n",
       "        text-align: right;\n",
       "    }\n",
       "</style>\n",
       "<table border=\"1\" class=\"dataframe\">\n",
       "  <thead>\n",
       "    <tr style=\"text-align: right;\">\n",
       "      <th></th>\n",
       "      <th>index</th>\n",
       "      <th>nuc</th>\n",
       "      <th>group</th>\n",
       "      <th>alt2ref</th>\n",
       "    </tr>\n",
       "  </thead>\n",
       "  <tbody>\n",
       "    <tr>\n",
       "      <th>0</th>\n",
       "      <td>0</td>\n",
       "      <td>T</td>\n",
       "      <td>ref</td>\n",
       "      <td>0.000000</td>\n",
       "    </tr>\n",
       "    <tr>\n",
       "      <th>1</th>\n",
       "      <td>0</td>\n",
       "      <td>C</td>\n",
       "      <td>alt</td>\n",
       "      <td>-0.536224</td>\n",
       "    </tr>\n",
       "    <tr>\n",
       "      <th>2</th>\n",
       "      <td>0</td>\n",
       "      <td>G</td>\n",
       "      <td>alt</td>\n",
       "      <td>1.888809</td>\n",
       "    </tr>\n",
       "    <tr>\n",
       "      <th>3</th>\n",
       "      <td>0</td>\n",
       "      <td>A</td>\n",
       "      <td>alt</td>\n",
       "      <td>-0.149696</td>\n",
       "    </tr>\n",
       "    <tr>\n",
       "      <th>4</th>\n",
       "      <td>1</td>\n",
       "      <td>G</td>\n",
       "      <td>ref</td>\n",
       "      <td>0.000000</td>\n",
       "    </tr>\n",
       "    <tr>\n",
       "      <th>...</th>\n",
       "      <td>...</td>\n",
       "      <td>...</td>\n",
       "      <td>...</td>\n",
       "      <td>...</td>\n",
       "    </tr>\n",
       "    <tr>\n",
       "      <th>2851</th>\n",
       "      <td>712</td>\n",
       "      <td>A</td>\n",
       "      <td>alt</td>\n",
       "      <td>-0.014259</td>\n",
       "    </tr>\n",
       "    <tr>\n",
       "      <th>2852</th>\n",
       "      <td>713</td>\n",
       "      <td>T</td>\n",
       "      <td>ref</td>\n",
       "      <td>0.000000</td>\n",
       "    </tr>\n",
       "    <tr>\n",
       "      <th>2853</th>\n",
       "      <td>713</td>\n",
       "      <td>C</td>\n",
       "      <td>alt</td>\n",
       "      <td>-0.182705</td>\n",
       "    </tr>\n",
       "    <tr>\n",
       "      <th>2854</th>\n",
       "      <td>713</td>\n",
       "      <td>G</td>\n",
       "      <td>alt</td>\n",
       "      <td>-0.195827</td>\n",
       "    </tr>\n",
       "    <tr>\n",
       "      <th>2855</th>\n",
       "      <td>713</td>\n",
       "      <td>A</td>\n",
       "      <td>alt</td>\n",
       "      <td>-0.208508</td>\n",
       "    </tr>\n",
       "  </tbody>\n",
       "</table>\n",
       "<p>2856 rows × 4 columns</p>\n",
       "</div>"
      ],
      "text/plain": [
       "      index nuc group   alt2ref\n",
       "0         0   T   ref  0.000000\n",
       "1         0   C   alt -0.536224\n",
       "2         0   G   alt  1.888809\n",
       "3         0   A   alt -0.149696\n",
       "4         1   G   ref  0.000000\n",
       "...     ...  ..   ...       ...\n",
       "2851    712   A   alt -0.014259\n",
       "2852    713   T   ref  0.000000\n",
       "2853    713   C   alt -0.182705\n",
       "2854    713   G   alt -0.195827\n",
       "2855    713   A   alt -0.208508\n",
       "\n",
       "[2856 rows x 4 columns]"
      ]
     },
     "execution_count": 26,
     "metadata": {},
     "output_type": "execute_result"
    }
   ],
   "source": [
    "res"
   ]
  },
  {
   "cell_type": "code",
   "execution_count": null,
   "metadata": {},
   "outputs": [],
   "source": [
    "outprfx = \"../muta/human.25k.multi.30way.4gpu4batch32accum11atten8head1152embed.model-1682666429.best_loss.pred_variant.rs7922621.peak\""
   ]
  },
  {
   "cell_type": "code",
   "execution_count": 27,
   "metadata": {},
   "outputs": [],
   "source": [
    "OUT_NAME = outprfx + '.' + region2peak + \".muta_res.txt\"\n",
    "res.to_csv(OUT_NAME, sep=\"\\t\", header=True, index=False)"
   ]
  },
  {
   "cell_type": "markdown",
   "metadata": {},
   "source": [
    "### predict on SNPs/variants"
   ]
  },
  {
   "cell_type": "code",
   "execution_count": 28,
   "metadata": {},
   "outputs": [],
   "source": [
    "def plotone_refalt_rawsignal(refs, alts, labels, width=18, height=2, dpi=100):\n",
    "    num_y = len(labels)\n",
    "    num_x = refs.shape[1]\n",
    "\n",
    "    x = [*range(0, num_x, 1)]\n",
    "\n",
    "    coordinate = []\n",
    "    signal = []\n",
    "    group = []\n",
    "    track = []\n",
    "\n",
    "    coordinate.append(x) # for ref\n",
    "    coordinate.append(x) # for alt\n",
    "    signal.append(refs[0,])\n",
    "    signal.append(alts[0,])\n",
    "    group.append([\"ref\"] * num_x)\n",
    "    group.append([\"alt\"] * num_x)\n",
    "    track.append([labels] * num_x * 2)\n",
    "\n",
    "    d = {'coordinate': np.concatenate(coordinate),\n",
    "         'signal': np.concatenate(signal),\n",
    "         'group' : np.concatenate(group),\n",
    "         'track' : np.concatenate(track)}\n",
    "    df = pd.DataFrame(data=d)\n",
    "\n",
    "    plt.figure(figsize=(width, height))\n",
    "    #sns.set_theme(style=\"ticks\", font_scale=2)\n",
    "    sns.relplot(x=\"coordinate\", y=\"signal\", hue=\"group\",\n",
    "            row=\"track\", height=2, aspect=5,\n",
    "            kind=\"line\", estimator=None, data=df);\n",
    "    #plt.show()"
   ]
  },
  {
   "cell_type": "code",
   "execution_count": 29,
   "metadata": {},
   "outputs": [],
   "source": [
    "def plotone_diff_rawsignal(refs, alts, labels, width=18, height=2, dpi=100):\n",
    "    num_y = len(labels)\n",
    "    num_x = refs.shape[1]\n",
    "\n",
    "    x = [*range(0, num_x, 1)]\n",
    "\n",
    "    coordinate = []\n",
    "    signal = []\n",
    "    group = []\n",
    "    track = []\n",
    "\n",
    "    coordinate.append(x) # for alt-ref\n",
    "    coordinate.append(x) # for ref-alt\n",
    "    signal.append(alts[0,] - refs[0,])\n",
    "    signal.append(refs[0,] - alts[0,])\n",
    "    group.append([\"alt-ref\"] * num_x)\n",
    "    group.append([\"ref-alt\"] * num_x)\n",
    "    track.append([labels] * num_x * 2)\n",
    "\n",
    "    d = {'coordinate': np.concatenate(coordinate),\n",
    "         'signal': np.concatenate(signal),\n",
    "         'group' : np.concatenate(group),\n",
    "         'track' : np.concatenate(track)}\n",
    "    df = pd.DataFrame(data=d)\n",
    "\n",
    "    plt.figure(figsize=(width, height))\n",
    "    #sns.set_theme(style=\"ticks\", font_scale=2)\n",
    "    sns.relplot(x=\"coordinate\", y=\"signal\", hue=\"group\",\n",
    "            row=\"track\", height=2, aspect=5,\n",
    "            kind=\"line\", estimator=None, data=df);\n",
    "    #plt.show()"
   ]
  },
  {
   "cell_type": "code",
   "execution_count": 30,
   "metadata": {},
   "outputs": [],
   "source": [
    "region4pred = \"chr10:80426429-80517820\" # TSPAN14\n",
    "region2peak = \"chr10:80491485-80492198\" # peak\n",
    "coor2var = \"chr10:80491788:C:A\" # rs7922621\n",
    "\n",
    "outprfx = \"../muta/human.25k.multi.30way.4gpu4batch32accum11atten8head1152embed.model-1682666429.best_loss.pred_variant.rs7922621\""
   ]
  },
  {
   "cell_type": "code",
   "execution_count": 31,
   "metadata": {},
   "outputs": [],
   "source": [
    "seq_len = 98304\n",
    "bin_size = 128\n",
    "\n",
    "species = \"hg38\"\n",
    "path2dir = \"../\"\n",
    "\n",
    "index = 3\n",
    "path2trg = \"../datasets/human_wigs.txt\"\n",
    "trgfiles = pd.read_csv(path2trg, delimiter = \"\\t\")\n",
    "celltype_list = trgfiles['identifier']\n",
    "celltype_labels = celltype_list[index]\n",
    "\n",
    "path2seqcons = ''.join([path2dir, \"/genome/\", species, \".phastCons.bw\"])\n",
    "if os.path.isfile(path2seqcons) is not True:\n",
    "    path2seqcons = None\n",
    "path2fasta = ''.join([path2dir, \"/genome/\", species, \".fa\"])"
   ]
  },
  {
   "cell_type": "code",
   "execution_count": 32,
   "metadata": {},
   "outputs": [
    {
     "name": "stdout",
     "output_type": "stream",
     "text": [
      "predict region:  chr10 80422972 80521276\n",
      "ref: C  alt: A\n",
      "measure variant:  chr10 80491787 80491788\n",
      "mutagenesis from  68815  to  68816\n"
     ]
    }
   ],
   "source": [
    "''' get region for prediction extend from center '''\n",
    "region4pred_str = region4pred.strip().replace(':', ' ').replace('-', ' ').split()\n",
    "region4pred_chrom = region4pred_str[0]\n",
    "region_len = int(region4pred_str[2]) - int(region4pred_str[1])\n",
    "region_diff = seq_len - region_len\n",
    "region_flank = int(region_diff/2)\n",
    "if region_diff % 2 == 1:\n",
    "    region4pred_start = int(region4pred_str[1]) - region_flank - 1\n",
    "    region4pred_end = int(region4pred_str[2]) + region_flank\n",
    "else:\n",
    "    region4pred_start = int(region4pred_str[1]) - region_flank\n",
    "    region4pred_end = int(region4pred_str[2]) + region_flank\n",
    "region4pred_str = ' '.join([region4pred_chrom, str(region4pred_start), str(region4pred_end)])\n",
    "region4pred_interval = BedTool(region4pred_str, from_string=True)\n",
    "print(\"predict region: \", region4pred_str)\n",
    "\n",
    "'''get peak loci'''\n",
    "coor2var_str = coor2var.strip().replace(':', ' ').split()\n",
    "coor2var_chrom = coor2var_str[0]\n",
    "coor2var_start = int(coor2var_str[1]) -1\n",
    "coor2var_end = int(coor2var_str[1])\n",
    "refnuc=coor2var_str[2]\n",
    "altnuc=coor2var_str[3]\n",
    "print(\"ref:\", refnuc, \" alt:\", altnuc)\n",
    "coor2var_str = ' '.join([coor2var_chrom, str(coor2var_start), str(coor2var_end)])\n",
    "coor2var_interval = BedTool(coor2var_str, from_string=True)\n",
    "print(\"measure variant: \", coor2var_str)\n",
    "\n",
    "'''get mutagenesis index'''\n",
    "start_var_index = coor2var_start - region4pred_start\n",
    "end_var_index = coor2var_end - region4pred_start\n",
    "print(\"mutagenesis from \", start_var_index, \" to \", end_var_index)"
   ]
  },
  {
   "cell_type": "code",
   "execution_count": 33,
   "metadata": {},
   "outputs": [
    {
     "name": "stdout",
     "output_type": "stream",
     "text": [
      "chr10 80422972 80521276\n"
     ]
    }
   ],
   "source": [
    "data = extract_data(region4pred,\n",
    "                 path2trg,\n",
    "                 path2fasta,\n",
    "                 path2seqcons,\n",
    "                 seq_len,\n",
    "                 bin_size\n",
    "                )\n",
    "\n",
    "inputs, seqcons, targets = data['seq'], data['seqcons'], data['signal']\n",
    "\n",
    "seqcons = torch.tensor(seqcons)\n",
    "seqcons = seqcons.unsqueeze(0)\n",
    "seqcons = seqcons.float()\n",
    "\n",
    "# ref\n",
    "ref_inputs = torch.tensor(inputs)\n",
    "ref_inputs = ref_inputs.unsqueeze(0)\n",
    "ref_inputs = ref_inputs.float()\n",
    "\n",
    "# alt\n",
    "alt_input = copy.deepcopy(inputs)\n",
    "alt_onehot = np.ravel(seq2onehot(altnuc))\n",
    "alt_input[:,start_var_index] = alt_onehot # mutagenesis\n",
    "\n",
    "alt_input = torch.tensor(alt_input)\n",
    "alt_input = alt_input.unsqueeze(0)\n",
    "alt_input = alt_input.float()\n",
    "\n",
    "if if_cons:\n",
    "    ref_inputs = ref_inputs * torch.exp(seqcons)\n",
    "    alt_input = alt_input * torch.exp(seqcons)"
   ]
  },
  {
   "cell_type": "code",
   "execution_count": 34,
   "metadata": {},
   "outputs": [],
   "source": [
    "# predicting ref\n",
    "torch.manual_seed(2022)\n",
    "ref_outs = model.forward(ref_inputs)"
   ]
  },
  {
   "cell_type": "code",
   "execution_count": 35,
   "metadata": {},
   "outputs": [],
   "source": [
    "# predicting alt\n",
    "torch.manual_seed(2022)\n",
    "alt_outs = model.forward(alt_input)"
   ]
  },
  {
   "cell_type": "code",
   "execution_count": 36,
   "metadata": {},
   "outputs": [],
   "source": [
    "if index:\n",
    "    ref_outs = ref_outs[:,index,:].unsqueeze(1)\n",
    "    alt_outs = alt_outs[:,index,:].unsqueeze(1)\n",
    "\n",
    "if crop_size > 0:\n",
    "    crop_seq_size = ref_outs.shape[2] - (crop_size * 2)\n",
    "    ref_outs = center_crop(ref_outs, ref_outs.shape[1], crop_seq_size)\n",
    "    alt_outs = center_crop(alt_outs, alt_outs.shape[1], crop_seq_size)"
   ]
  },
  {
   "cell_type": "code",
   "execution_count": 37,
   "metadata": {},
   "outputs": [
    {
     "data": {
      "text/plain": [
       "tensor([[[3.6499, 4.0481, 6.7909, 9.3772, 4.8978, 2.5694]]],\n",
       "       grad_fn=<SliceBackward0>)"
      ]
     },
     "execution_count": 37,
     "metadata": {},
     "output_type": "execute_result"
    }
   ],
   "source": [
    "ref_outs[:, :, 471:477]"
   ]
  },
  {
   "cell_type": "code",
   "execution_count": 38,
   "metadata": {},
   "outputs": [
    {
     "data": {
      "text/plain": [
       "tensor([[[3.1806, 3.5086, 5.1252, 8.2682, 4.4581, 2.3312]]],\n",
       "       grad_fn=<SliceBackward0>)"
      ]
     },
     "execution_count": 38,
     "metadata": {},
     "output_type": "execute_result"
    }
   ],
   "source": [
    "alt_outs[:, :, 471:477]"
   ]
  },
  {
   "cell_type": "code",
   "execution_count": 39,
   "metadata": {},
   "outputs": [],
   "source": [
    "plot_ref = ref_outs.squeeze(0).detach().numpy()\n",
    "plot_alt = alt_outs.squeeze(0).detach().numpy()"
   ]
  },
  {
   "cell_type": "code",
   "execution_count": 40,
   "metadata": {},
   "outputs": [
    {
     "data": {
      "text/plain": [
       "<Figure size 432x144 with 0 Axes>"
      ]
     },
     "metadata": {},
     "output_type": "display_data"
    },
    {
     "data": {
      "text/plain": [
       "<Figure size 1296x144 with 0 Axes>"
      ]
     },
     "metadata": {},
     "output_type": "display_data"
    },
    {
     "data": {
      "image/png": "[encoded data removed]",
      "text/plain": [
       "<Figure size 769.625x144 with 1 Axes>"
      ]
     },
     "metadata": {
      "needs_background": "light"
     },
     "output_type": "display_data"
    }
   ],
   "source": [
    "fig = plt.figure(figsize=(6, 2))\n",
    "plotone_refalt_rawsignal(refs=plot_ref, \n",
    "                         alts=plot_alt, \n",
    "                         labels=celltype_labels)\n",
    "plt.savefig(outprfx + '.' + species + '.' + region4pred + '.' + 'pred_refalt_rawsignal.pdf')"
   ]
  },
  {
   "cell_type": "code",
   "execution_count": 41,
   "metadata": {},
   "outputs": [
    {
     "data": {
      "text/plain": [
       "<Figure size 432x144 with 0 Axes>"
      ]
     },
     "metadata": {},
     "output_type": "display_data"
    },
    {
     "data": {
      "text/plain": [
       "<Figure size 1296x144 with 0 Axes>"
      ]
     },
     "metadata": {},
     "output_type": "display_data"
    },
    {
     "data": {
      "image/png": "[encoded data removed]",
      "text/plain": [
       "<Figure size 786.125x144 with 1 Axes>"
      ]
     },
     "metadata": {
      "needs_background": "light"
     },
     "output_type": "display_data"
    }
   ],
   "source": [
    "fig = plt.figure(figsize=(6, 2))\n",
    "plotone_diff_rawsignal(refs=plot_ref, \n",
    "                         alts=plot_alt, \n",
    "                         labels=celltype_labels)\n",
    "plt.savefig(outprfx + '.' + species + '.' + region4pred + '.' + 'pred_diff_rawsignal.pdf')"
   ]
  },
  {
   "cell_type": "code",
   "execution_count": null,
   "metadata": {},
   "outputs": [],
   "source": []
  },
  {
   "cell_type": "code",
   "execution_count": null,
   "metadata": {},
   "outputs": [],
   "source": []
  }
 ],
 "metadata": {
  "kernelspec": {
   "display_name": "Python 3",
   "language": "python",
   "name": "python3"
  },
  "language_info": {
   "codemirror_mode": {
    "name": "ipython",
    "version": 3
   },
   "file_extension": ".py",
   "mimetype": "text/x-python",
   "name": "python",
   "nbconvert_exporter": "python",
   "pygments_lexer": "ipython3",
   "version": "3.9.12"
  }
 },
 "nbformat": 4,
 "nbformat_minor": 4
}
